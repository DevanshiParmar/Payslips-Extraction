{
  "cells": [
    {
      "cell_type": "code",
      "execution_count": 1,
      "metadata": {
        "id": "Y_DDkTTMwkO6",
        "colab": {
          "base_uri": "https://localhost:8080/"
        },
        "outputId": "a9f67bab-5962-4f0c-96ab-20963c8749b6"
      },
      "outputs": [
        {
          "output_type": "stream",
          "name": "stdout",
          "text": [
            "Reading package lists... Done\n",
            "Building dependency tree       \n",
            "Reading state information... Done\n",
            "The following package was automatically installed and is no longer required:\n",
            "  libnvidia-common-460\n",
            "Use 'sudo apt autoremove' to remove it.\n",
            "The following additional packages will be installed:\n",
            "  tesseract-ocr-eng tesseract-ocr-osd\n",
            "The following NEW packages will be installed:\n",
            "  tesseract-ocr tesseract-ocr-eng tesseract-ocr-osd\n",
            "0 upgraded, 3 newly installed, 0 to remove and 62 not upgraded.\n",
            "Need to get 4,795 kB of archives.\n",
            "After this operation, 15.8 MB of additional disk space will be used.\n",
            "Get:1 http://archive.ubuntu.com/ubuntu bionic/universe amd64 tesseract-ocr-eng all 4.00~git24-0e00fe6-1.2 [1,588 kB]\n",
            "Get:2 http://archive.ubuntu.com/ubuntu bionic/universe amd64 tesseract-ocr-osd all 4.00~git24-0e00fe6-1.2 [2,989 kB]\n",
            "Get:3 http://archive.ubuntu.com/ubuntu bionic/universe amd64 tesseract-ocr amd64 4.00~git2288-10f4998a-2 [218 kB]\n",
            "Fetched 4,795 kB in 2s (2,079 kB/s)\n",
            "debconf: unable to initialize frontend: Dialog\n",
            "debconf: (No usable dialog-like program is installed, so the dialog based frontend cannot be used. at /usr/share/perl5/Debconf/FrontEnd/Dialog.pm line 76, <> line 3.)\n",
            "debconf: falling back to frontend: Readline\n",
            "debconf: unable to initialize frontend: Readline\n",
            "debconf: (This frontend requires a controlling tty.)\n",
            "debconf: falling back to frontend: Teletype\n",
            "dpkg-preconfigure: unable to re-open stdin: \n",
            "Selecting previously unselected package tesseract-ocr-eng.\n",
            "(Reading database ... 155639 files and directories currently installed.)\n",
            "Preparing to unpack .../tesseract-ocr-eng_4.00~git24-0e00fe6-1.2_all.deb ...\n",
            "Unpacking tesseract-ocr-eng (4.00~git24-0e00fe6-1.2) ...\n",
            "Selecting previously unselected package tesseract-ocr-osd.\n",
            "Preparing to unpack .../tesseract-ocr-osd_4.00~git24-0e00fe6-1.2_all.deb ...\n",
            "Unpacking tesseract-ocr-osd (4.00~git24-0e00fe6-1.2) ...\n",
            "Selecting previously unselected package tesseract-ocr.\n",
            "Preparing to unpack .../tesseract-ocr_4.00~git2288-10f4998a-2_amd64.deb ...\n",
            "Unpacking tesseract-ocr (4.00~git2288-10f4998a-2) ...\n",
            "Setting up tesseract-ocr-osd (4.00~git24-0e00fe6-1.2) ...\n",
            "Setting up tesseract-ocr-eng (4.00~git24-0e00fe6-1.2) ...\n",
            "Setting up tesseract-ocr (4.00~git2288-10f4998a-2) ...\n",
            "Processing triggers for man-db (2.8.3-2ubuntu0.1) ...\n",
            "Looking in indexes: https://pypi.org/simple, https://us-python.pkg.dev/colab-wheels/public/simple/\n",
            "Collecting easyocr\n",
            "  Downloading easyocr-1.5.0-py3-none-any.whl (70.8 MB)\n",
            "\u001b[K     |████████████████████████████████| 70.8 MB 30 kB/s \n",
            "\u001b[?25hRequirement already satisfied: Pillow in /usr/local/lib/python3.7/dist-packages (from easyocr) (7.1.2)\n",
            "Requirement already satisfied: scikit-image in /usr/local/lib/python3.7/dist-packages (from easyocr) (0.18.3)\n",
            "Collecting python-bidi\n",
            "  Downloading python_bidi-0.4.2-py2.py3-none-any.whl (30 kB)\n",
            "Requirement already satisfied: PyYAML in /usr/local/lib/python3.7/dist-packages (from easyocr) (3.13)\n",
            "Collecting opencv-python-headless<=4.5.4.60\n",
            "  Downloading opencv_python_headless-4.5.4.60-cp37-cp37m-manylinux_2_17_x86_64.manylinux2014_x86_64.whl (47.6 MB)\n",
            "\u001b[K     |████████████████████████████████| 47.6 MB 79 kB/s \n",
            "\u001b[?25hRequirement already satisfied: torchvision>=0.5 in /usr/local/lib/python3.7/dist-packages (from easyocr) (0.13.0+cu113)\n",
            "Requirement already satisfied: torch in /usr/local/lib/python3.7/dist-packages (from easyocr) (1.12.0+cu113)\n",
            "Requirement already satisfied: scipy in /usr/local/lib/python3.7/dist-packages (from easyocr) (1.7.3)\n",
            "Requirement already satisfied: numpy in /usr/local/lib/python3.7/dist-packages (from easyocr) (1.21.6)\n",
            "Requirement already satisfied: requests in /usr/local/lib/python3.7/dist-packages (from torchvision>=0.5->easyocr) (2.23.0)\n",
            "Requirement already satisfied: typing-extensions in /usr/local/lib/python3.7/dist-packages (from torchvision>=0.5->easyocr) (4.1.1)\n",
            "Requirement already satisfied: six in /usr/local/lib/python3.7/dist-packages (from python-bidi->easyocr) (1.15.0)\n",
            "Requirement already satisfied: urllib3!=1.25.0,!=1.25.1,<1.26,>=1.21.1 in /usr/local/lib/python3.7/dist-packages (from requests->torchvision>=0.5->easyocr) (1.24.3)\n",
            "Requirement already satisfied: certifi>=2017.4.17 in /usr/local/lib/python3.7/dist-packages (from requests->torchvision>=0.5->easyocr) (2022.6.15)\n",
            "Requirement already satisfied: chardet<4,>=3.0.2 in /usr/local/lib/python3.7/dist-packages (from requests->torchvision>=0.5->easyocr) (3.0.4)\n",
            "Requirement already satisfied: idna<3,>=2.5 in /usr/local/lib/python3.7/dist-packages (from requests->torchvision>=0.5->easyocr) (2.10)\n",
            "Requirement already satisfied: matplotlib!=3.0.0,>=2.0.0 in /usr/local/lib/python3.7/dist-packages (from scikit-image->easyocr) (3.2.2)\n",
            "Requirement already satisfied: networkx>=2.0 in /usr/local/lib/python3.7/dist-packages (from scikit-image->easyocr) (2.6.3)\n",
            "Requirement already satisfied: tifffile>=2019.7.26 in /usr/local/lib/python3.7/dist-packages (from scikit-image->easyocr) (2021.11.2)\n",
            "Requirement already satisfied: PyWavelets>=1.1.1 in /usr/local/lib/python3.7/dist-packages (from scikit-image->easyocr) (1.3.0)\n",
            "Requirement already satisfied: imageio>=2.3.0 in /usr/local/lib/python3.7/dist-packages (from scikit-image->easyocr) (2.4.1)\n",
            "Requirement already satisfied: python-dateutil>=2.1 in /usr/local/lib/python3.7/dist-packages (from matplotlib!=3.0.0,>=2.0.0->scikit-image->easyocr) (2.8.2)\n",
            "Requirement already satisfied: pyparsing!=2.0.4,!=2.1.2,!=2.1.6,>=2.0.1 in /usr/local/lib/python3.7/dist-packages (from matplotlib!=3.0.0,>=2.0.0->scikit-image->easyocr) (3.0.9)\n",
            "Requirement already satisfied: kiwisolver>=1.0.1 in /usr/local/lib/python3.7/dist-packages (from matplotlib!=3.0.0,>=2.0.0->scikit-image->easyocr) (1.4.3)\n",
            "Requirement already satisfied: cycler>=0.10 in /usr/local/lib/python3.7/dist-packages (from matplotlib!=3.0.0,>=2.0.0->scikit-image->easyocr) (0.11.0)\n",
            "Installing collected packages: python-bidi, opencv-python-headless, easyocr\n",
            "Successfully installed easyocr-1.5.0 opencv-python-headless-4.5.4.60 python-bidi-0.4.2\n",
            "Looking in indexes: https://pypi.org/simple, https://us-python.pkg.dev/colab-wheels/public/simple/\n",
            "Collecting opencv-python-headless==4.1.2.30\n",
            "  Downloading opencv_python_headless-4.1.2.30-cp37-cp37m-manylinux1_x86_64.whl (21.8 MB)\n",
            "\u001b[K     |████████████████████████████████| 21.8 MB 1.4 MB/s \n",
            "\u001b[?25hRequirement already satisfied: numpy>=1.14.5 in /usr/local/lib/python3.7/dist-packages (from opencv-python-headless==4.1.2.30) (1.21.6)\n",
            "Installing collected packages: opencv-python-headless\n",
            "  Attempting uninstall: opencv-python-headless\n",
            "    Found existing installation: opencv-python-headless 4.5.4.60\n",
            "    Uninstalling opencv-python-headless-4.5.4.60:\n",
            "      Successfully uninstalled opencv-python-headless-4.5.4.60\n",
            "Successfully installed opencv-python-headless-4.1.2.30\n",
            "Found existing installation: spacy 3.3.1\n",
            "Uninstalling spacy-3.3.1:\n",
            "  Successfully uninstalled spacy-3.3.1\n",
            "Looking in indexes: https://pypi.org/simple, https://us-python.pkg.dev/colab-wheels/public/simple/\n",
            "Collecting spacy\n",
            "  Downloading spacy-3.4.0-cp37-cp37m-manylinux_2_17_x86_64.manylinux2014_x86_64.whl (6.3 MB)\n",
            "\u001b[K     |████████████████████████████████| 6.3 MB 34.6 MB/s \n",
            "\u001b[?25hRequirement already satisfied: tqdm<5.0.0,>=4.38.0 in /usr/local/lib/python3.7/dist-packages (from spacy) (4.64.0)\n",
            "Requirement already satisfied: packaging>=20.0 in /usr/local/lib/python3.7/dist-packages (from spacy) (21.3)\n",
            "Requirement already satisfied: langcodes<4.0.0,>=3.2.0 in /usr/local/lib/python3.7/dist-packages (from spacy) (3.3.0)\n",
            "Requirement already satisfied: cymem<2.1.0,>=2.0.2 in /usr/local/lib/python3.7/dist-packages (from spacy) (2.0.6)\n",
            "Requirement already satisfied: spacy-legacy<3.1.0,>=3.0.9 in /usr/local/lib/python3.7/dist-packages (from spacy) (3.0.9)\n",
            "Requirement already satisfied: srsly<3.0.0,>=2.4.3 in /usr/local/lib/python3.7/dist-packages (from spacy) (2.4.3)\n",
            "Requirement already satisfied: setuptools in /usr/local/lib/python3.7/dist-packages (from spacy) (57.4.0)\n",
            "Requirement already satisfied: typing-extensions<4.2.0,>=3.7.4 in /usr/local/lib/python3.7/dist-packages (from spacy) (4.1.1)\n",
            "Requirement already satisfied: catalogue<2.1.0,>=2.0.6 in /usr/local/lib/python3.7/dist-packages (from spacy) (2.0.7)\n",
            "Requirement already satisfied: pathy>=0.3.5 in /usr/local/lib/python3.7/dist-packages (from spacy) (0.6.2)\n",
            "Requirement already satisfied: requests<3.0.0,>=2.13.0 in /usr/local/lib/python3.7/dist-packages (from spacy) (2.23.0)\n",
            "Requirement already satisfied: spacy-loggers<2.0.0,>=1.0.0 in /usr/local/lib/python3.7/dist-packages (from spacy) (1.0.2)\n",
            "Requirement already satisfied: pydantic!=1.8,!=1.8.1,<1.10.0,>=1.7.4 in /usr/local/lib/python3.7/dist-packages (from spacy) (1.8.2)\n",
            "Collecting thinc<8.2.0,>=8.1.0\n",
            "  Downloading thinc-8.1.0-cp37-cp37m-manylinux_2_17_x86_64.manylinux2014_x86_64.whl (821 kB)\n",
            "\u001b[K     |████████████████████████████████| 821 kB 55.6 MB/s \n",
            "\u001b[?25hRequirement already satisfied: jinja2 in /usr/local/lib/python3.7/dist-packages (from spacy) (2.11.3)\n",
            "Requirement already satisfied: murmurhash<1.1.0,>=0.28.0 in /usr/local/lib/python3.7/dist-packages (from spacy) (1.0.7)\n",
            "Requirement already satisfied: wasabi<1.1.0,>=0.9.1 in /usr/local/lib/python3.7/dist-packages (from spacy) (0.9.1)\n",
            "Requirement already satisfied: preshed<3.1.0,>=3.0.2 in /usr/local/lib/python3.7/dist-packages (from spacy) (3.0.6)\n",
            "Requirement already satisfied: typer<0.5.0,>=0.3.0 in /usr/local/lib/python3.7/dist-packages (from spacy) (0.4.2)\n",
            "Requirement already satisfied: numpy>=1.15.0 in /usr/local/lib/python3.7/dist-packages (from spacy) (1.21.6)\n",
            "Requirement already satisfied: zipp>=0.5 in /usr/local/lib/python3.7/dist-packages (from catalogue<2.1.0,>=2.0.6->spacy) (3.8.0)\n",
            "Requirement already satisfied: pyparsing!=3.0.5,>=2.0.2 in /usr/local/lib/python3.7/dist-packages (from packaging>=20.0->spacy) (3.0.9)\n",
            "Requirement already satisfied: smart-open<6.0.0,>=5.2.1 in /usr/local/lib/python3.7/dist-packages (from pathy>=0.3.5->spacy) (5.2.1)\n",
            "Requirement already satisfied: chardet<4,>=3.0.2 in /usr/local/lib/python3.7/dist-packages (from requests<3.0.0,>=2.13.0->spacy) (3.0.4)\n",
            "Requirement already satisfied: certifi>=2017.4.17 in /usr/local/lib/python3.7/dist-packages (from requests<3.0.0,>=2.13.0->spacy) (2022.6.15)\n",
            "Requirement already satisfied: idna<3,>=2.5 in /usr/local/lib/python3.7/dist-packages (from requests<3.0.0,>=2.13.0->spacy) (2.10)\n",
            "Requirement already satisfied: urllib3!=1.25.0,!=1.25.1,<1.26,>=1.21.1 in /usr/local/lib/python3.7/dist-packages (from requests<3.0.0,>=2.13.0->spacy) (1.24.3)\n",
            "Requirement already satisfied: blis<0.8.0,>=0.7.8 in /usr/local/lib/python3.7/dist-packages (from thinc<8.2.0,>=8.1.0->spacy) (0.7.8)\n",
            "Requirement already satisfied: click<9.0.0,>=7.1.1 in /usr/local/lib/python3.7/dist-packages (from typer<0.5.0,>=0.3.0->spacy) (7.1.2)\n",
            "Requirement already satisfied: MarkupSafe>=0.23 in /usr/local/lib/python3.7/dist-packages (from jinja2->spacy) (2.0.1)\n",
            "Installing collected packages: thinc, spacy\n",
            "  Attempting uninstall: thinc\n",
            "    Found existing installation: thinc 8.0.17\n",
            "    Uninstalling thinc-8.0.17:\n",
            "      Successfully uninstalled thinc-8.0.17\n",
            "\u001b[31mERROR: pip's dependency resolver does not currently take into account all the packages that are installed. This behaviour is the source of the following dependency conflicts.\n",
            "en-core-web-sm 3.3.0 requires spacy<3.4.0,>=3.3.0.dev0, but you have spacy 3.4.0 which is incompatible.\u001b[0m\n",
            "Successfully installed spacy-3.4.0 thinc-8.1.0\n",
            "Looking in indexes: https://pypi.org/simple, https://us-python.pkg.dev/colab-wheels/public/simple/\n",
            "Collecting pdf2image\n",
            "  Downloading pdf2image-1.16.0-py3-none-any.whl (10 kB)\n",
            "Requirement already satisfied: pillow in /usr/local/lib/python3.7/dist-packages (from pdf2image) (7.1.2)\n",
            "Installing collected packages: pdf2image\n",
            "Successfully installed pdf2image-1.16.0\n",
            "Reading package lists... Done\n",
            "Building dependency tree       \n",
            "Reading state information... Done\n",
            "The following package was automatically installed and is no longer required:\n",
            "  libnvidia-common-460\n",
            "Use 'apt autoremove' to remove it.\n",
            "The following NEW packages will be installed:\n",
            "  poppler-utils\n",
            "0 upgraded, 1 newly installed, 0 to remove and 62 not upgraded.\n",
            "Need to get 154 kB of archives.\n",
            "After this operation, 613 kB of additional disk space will be used.\n",
            "Get:1 http://archive.ubuntu.com/ubuntu bionic-updates/main amd64 poppler-utils amd64 0.62.0-2ubuntu2.12 [154 kB]\n",
            "Fetched 154 kB in 1s (153 kB/s)\n",
            "Selecting previously unselected package poppler-utils.\n",
            "(Reading database ... 155686 files and directories currently installed.)\n",
            "Preparing to unpack .../poppler-utils_0.62.0-2ubuntu2.12_amd64.deb ...\n",
            "Unpacking poppler-utils (0.62.0-2ubuntu2.12) ...\n",
            "Setting up poppler-utils (0.62.0-2ubuntu2.12) ...\n",
            "Processing triggers for man-db (2.8.3-2ubuntu0.1) ...\n"
          ]
        }
      ],
      "source": [
        "#install libraries\n",
        "!sudo apt install tesseract-ocr\n",
        "!pip install easyocr\n",
        "!pip install opencv-python-headless==4.1.2.30\n",
        "!python -m pip uninstall -y spacy\n",
        "!python -m pip install -U spacy\n",
        "!pip install pdf2image\n",
        "!apt-get install poppler-utils "
      ]
    },
    {
      "cell_type": "code",
      "source": [
        "import spacy\n",
        "from spacy.scorer import Scorer\n",
        "from spacy.tokens import Doc\n",
        "import spacy\n",
        "from spacy.tokens import DocBin\n",
        "from tqdm import tqdm\n",
        "import json\n",
        "import cv2\n",
        "from PIL import Image\n",
        "import os\n",
        "import easyocr\n",
        "import numpy as np\n",
        "from pdf2image import convert_from_path"
      ],
      "metadata": {
        "id": "KWIiab6qGVYv"
      },
      "execution_count": 2,
      "outputs": []
    },
    {
      "cell_type": "markdown",
      "source": [
        "Converting images into string of characters"
      ],
      "metadata": {
        "id": "sP0QrwiBiZYy"
      }
    },
    {
      "cell_type": "code",
      "execution_count": null,
      "metadata": {
        "colab": {
          "base_uri": "https://localhost:8080/"
        },
        "id": "M22DqGPawYjL",
        "outputId": "3004259c-18b9-493f-f145-b9c8a1628eb3"
      },
      "outputs": [
        {
          "output_type": "stream",
          "name": "stderr",
          "text": [
            "/usr/local/lib/python3.7/dist-packages/torchvision/models/_utils.py:253: UserWarning: Accessing the model URLs via the internal dictionary of the module is deprecated since 0.13 and will be removed in 0.15. Please access them via the appropriate Weights Enum instead.\n",
            "  \"Accessing the model URLs via the internal dictionary of the module is deprecated since 0.13 and will \"\n",
            "/usr/local/lib/python3.7/dist-packages/torchvision/models/_utils.py:209: UserWarning: The parameter 'pretrained' is deprecated since 0.13 and will be removed in 0.15, please use 'weights' instead.\n",
            "  f\"The parameter '{pretrained_param}' is deprecated since 0.13 and will be removed in 0.15, \"\n",
            "/usr/local/lib/python3.7/dist-packages/torchvision/models/_utils.py:223: UserWarning: Arguments other than a weight enum or `None` for 'weights' are deprecated since 0.13 and will be removed in 0.15. The current behavior is equivalent to passing `weights=None`.\n",
            "  warnings.warn(msg)\n"
          ]
        },
        {
          "output_type": "stream",
          "name": "stdout",
          "text": [
            "financial_document_payslip_2019_12_09-15_53_42_571528_.jpg\n",
            "-----------\n",
            "jpg\n",
            "/content/txt/1.txt\n",
            "financial_document_payslip_2019_12_09-15_53_42_569432_.pdf\n",
            "-----------\n",
            "pdf\n",
            "/content/txt/2.txt\n",
            "financial_document_payslip_2019_12_09-15_53_42_611697_.jpg\n",
            "-----------\n",
            "jpg\n",
            "/content/txt/3.txt\n",
            "financial_document_payslip_2019_12_09-15_53_42_568979_.jpg\n",
            "-----------\n",
            "jpg\n",
            "/content/txt/4.txt\n",
            "financial_document_payslip_2019_12_09-15_53_42_610460_.pdf\n",
            "-----------\n",
            "pdf\n",
            "/content/txt/5.txt\n",
            "financial_document_payslip_2019_12_09-15_53_42_492037_.pdf\n",
            "-----------\n",
            "pdf\n",
            "/content/txt/6.txt\n",
            "financial_document_payslip_2019_12_09-15_53_42_565018_.jpg\n",
            "-----------\n",
            "jpg\n",
            "/content/txt/7.txt\n",
            "financial_document_payslip_2019_12_09-15_53_42_570433_.jpg\n",
            "-----------\n",
            "jpg\n",
            "/content/txt/8.txt\n",
            "financial_document_payslip_2019_12_09-15_53_42_571248_(1).jpg\n",
            "-----------\n",
            "jpg\n",
            "/content/txt/9.txt\n",
            "financial_document_payslip_2019_12_09-15_53_42_567518_.jpg\n",
            "-----------\n",
            "jpg\n",
            "/content/txt/10.txt\n",
            "financial_document_payslip_2019_12_09-15_53_42_493711_.jpg\n",
            "-----------\n",
            "jpg\n",
            "/content/txt/11.txt\n",
            "financial_document_payslip_2019_12_09-15_53_42_569865_.jpg\n",
            "-----------\n",
            "jpg\n",
            "/content/txt/12.txt\n",
            "financial_document_payslip_2019_12_09-15_53_42_569654_.jpg\n",
            "-----------\n",
            "jpg\n",
            "/content/txt/13.txt\n",
            "financial_document_payslip_2019_12_09-15_53_42_492358_.jpg\n",
            "-----------\n",
            "jpg\n",
            "/content/txt/14.txt\n",
            "financial_document_payslip_2019_12_09-15_53_42_494504_.jpg\n",
            "-----------\n",
            "jpg\n",
            "/content/txt/15.txt\n",
            "financial_document_payslip_2019_12_09-15_53_42_570829_.JPG\n",
            "-----------\n",
            "JPG\n",
            "/content/txt/16.txt\n",
            "financial_document_payslip_2019_12_09-15_53_42_567200_.jpg\n",
            "-----------\n",
            "jpg\n",
            "/content/txt/17.txt\n",
            "financial_document_payslip_2019_12_09-15_53_42_493368_.PDF\n",
            "-----------\n",
            "PDF\n",
            "/content/txt/18.txt\n",
            "financial_document_payslip_2019_12_09-15_53_42_491275_.PDF\n",
            "-----------\n",
            "PDF\n",
            "/content/txt/19.txt\n",
            "financial_document_payslip_2019_12_09-15_53_42_605320_.pdf\n",
            "-----------\n",
            "pdf\n",
            "/content/txt/20.txt\n",
            "financial_document_payslip_2019_12_09-15_53_42_493368_(1).PDF\n",
            "-----------\n",
            "PDF\n",
            "/content/txt/21.txt\n",
            "financial_document_payslip_2019_12_09-15_53_42_603789_.pdf\n",
            "-----------\n",
            "pdf\n",
            "/content/txt/22.txt\n",
            "financial_document_payslip_2019_12_09-15_53_42_570246_.jpg\n",
            "-----------\n",
            "jpg\n",
            "/content/txt/23.txt\n",
            "financial_document_payslip_2019_12_09-15_53_42_571992_.jpg\n",
            "-----------\n",
            "jpg\n",
            "/content/txt/24.txt\n",
            "financial_document_payslip_2019_12_09-15_53_42_571248_.jpg\n",
            "-----------\n",
            "jpg\n",
            "/content/txt/25.txt\n",
            "financial_document_payslip_2019_12_09-15_53_42_565262_.jpg\n",
            "-----------\n",
            "jpg\n",
            "/content/txt/26.txt\n",
            "financial_document_payslip_2019_12_09-15_53_42_571816_.JPG\n",
            "-----------\n",
            "JPG\n",
            "/content/txt/27.txt\n",
            "financial_document_payslip_2019_12_09-15_53_42_606736_.pdf\n",
            "-----------\n",
            "pdf\n",
            "/content/txt/28.txt\n",
            "financial_document_payslip_2019_12_09-15_53_42_611169_.jpg\n",
            "-----------\n",
            "jpg\n",
            "/content/txt/29.txt\n"
          ]
        }
      ],
      "source": [
        "from os import listdir\n",
        "from PIL import Image\n",
        "\n",
        "path='/content/folder/'\n",
        "fil=1\n",
        "reader = easyocr.Reader(['en']) \n",
        "for it in os.listdir(path):\n",
        "    print(it)\n",
        "    print(\"-----------\")\n",
        "    print(it[-3:])\n",
        "    if(it[-3:]=='PDF' or it[-3:]=='pdf'):\n",
        "        images = convert_from_path(path+'/'+it)\n",
        "        line=''\n",
        "        for j in range(len(images)):\n",
        "            result = reader.readtext(np.array(images[j]),detail=0)\n",
        "            for res in result:\n",
        "                line=line+' '+res\n",
        "        f= open('/content/txt/'+str(fil)+\".txt\",\"w+\")\n",
        "        for it in line:\n",
        "            f.write(it)\n",
        "        f.close()\n",
        "        print('/content/txt/'+str(fil)+\".txt\")\n",
        "        fil+=1\n",
        "    else:\n",
        "        p= (path+'/'+it)\n",
        "        if it.endswith('.jpg'):\n",
        "              try:\n",
        "                  img = Image.open(p)\n",
        "                  img.verify() # verify that it is, in fact an image\n",
        "              except (IOError, SyntaxError) as e:\n",
        "                  print('Bad file:', it)\n",
        "        result = reader.readtext(p,detail=0)\n",
        "        line=''\n",
        "        for res in result:\n",
        "            line=line+' '+res\n",
        "        f= open('/content/txt/'+str(fil)+\".txt\",\"w+\")\n",
        "        for it in line:\n",
        "            f.write(it)\n",
        "        f.close()\n",
        "        print('/content/txt/'+str(fil)+\".txt\")\n",
        "        fil+=1"
      ]
    },
    {
      "cell_type": "code",
      "execution_count": null,
      "metadata": {
        "id": "wKV6XFPZ2HuA"
      },
      "outputs": [],
      "source": [
        "from google.colab import files\n",
        "files.download('/content/txt')"
      ]
    },
    {
      "cell_type": "code",
      "execution_count": null,
      "metadata": {
        "colab": {
          "base_uri": "https://localhost:8080/"
        },
        "id": "UCqaHJHBohly",
        "outputId": "9041e843-06c8-4a1c-bde8-2db28f38d101"
      },
      "outputs": [
        {
          "output_type": "stream",
          "name": "stdout",
          "text": [
            "  adding: content/txt/ (stored 0%)\n",
            "  adding: content/txt/10.txt (deflated 38%)\n",
            "  adding: content/txt/26.txt (deflated 28%)\n",
            "  adding: content/txt/7.txt (deflated 37%)\n",
            "  adding: content/txt/2.txt (deflated 41%)\n",
            "  adding: content/txt/18.txt (deflated 40%)\n",
            "  adding: content/txt/17.txt (deflated 42%)\n",
            "  adding: content/txt/15.txt (deflated 32%)\n",
            "  adding: content/txt/14.txt (deflated 29%)\n",
            "  adding: content/txt/3.txt (deflated 37%)\n",
            "  adding: content/txt/4.txt (deflated 38%)\n",
            "  adding: content/txt/20.txt (deflated 39%)\n",
            "  adding: content/txt/5.txt (deflated 51%)\n",
            "  adding: content/txt/22.txt (deflated 32%)\n",
            "  adding: content/txt/24.txt (deflated 43%)\n",
            "  adding: content/txt/12.txt (deflated 39%)\n",
            "  adding: content/txt/28.txt (deflated 36%)\n",
            "  adding: content/txt/6.txt (deflated 39%)\n",
            "  adding: content/txt/11.txt (deflated 41%)\n",
            "  adding: content/txt/27.txt (deflated 36%)\n",
            "  adding: content/txt/21.txt (deflated 40%)\n",
            "  adding: content/txt/9.txt (deflated 38%)\n",
            "  adding: content/txt/29.txt (deflated 40%)\n",
            "  adding: content/txt/8.txt (deflated 46%)\n",
            "  adding: content/txt/19.txt (deflated 42%)\n",
            "  adding: content/txt/16.txt (deflated 31%)\n",
            "  adding: content/txt/25.txt (deflated 38%)\n",
            "  adding: content/txt/1.txt (deflated 45%)\n",
            "  adding: content/txt/23.txt (deflated 50%)\n",
            "  adding: content/txt/13.txt (deflated 40%)\n"
          ]
        }
      ],
      "source": [
        "!zip -r /content/txt.zip /content/txt"
      ]
    },
    {
      "cell_type": "markdown",
      "source": [
        "Converting the json files into .spacy format to train, validate and test the spacy model"
      ],
      "metadata": {
        "id": "1ite3ENmjNNe"
      }
    },
    {
      "cell_type": "code",
      "execution_count": 7,
      "metadata": {
        "colab": {
          "base_uri": "https://localhost:8080/"
        },
        "id": "IxTry2QBuSEP",
        "outputId": "97ca31f1-9665-43fe-b8ac-5fab95351757"
      },
      "outputs": [
        {
          "output_type": "stream",
          "name": "stderr",
          "text": [
            "100%|██████████| 1/1 [00:00<00:00, 240.39it/s]\n"
          ]
        },
        {
          "output_type": "stream",
          "name": "stdout",
          "text": [
            "(BISADO SECURITY SOLUTIONS, OPERATION MANAGER, 1161, LK Pradeep, 101019469879, 45000)\n"
          ]
        },
        {
          "output_type": "stream",
          "name": "stderr",
          "text": [
            "100%|██████████| 1/1 [00:00<00:00, 58.55it/s]\n"
          ]
        },
        {
          "output_type": "stream",
          "name": "stdout",
          "text": [
            "(OIL AND NATURAL GAS CORPORATION, RANA BOSE, Chief Engineer Production, ADSPB9873B, 04 .09.1991, 7000333210424305, 327311.00)\n"
          ]
        },
        {
          "output_type": "stream",
          "name": "stderr",
          "text": [
            "100%|██████████| 1/1 [00:00<00:00, 108.84it/s]\n"
          ]
        },
        {
          "output_type": "stream",
          "name": "stdout",
          "text": [
            "(EPIMONEY PRIVATE LIMITED, AKHIL MOHAMMED, 7696, 19/07/2018, 091901001018, Associate Product Manager, 31, 67,930.00)\n"
          ]
        },
        {
          "output_type": "stream",
          "name": "stderr",
          "text": [
            "100%|██████████| 1/1 [00:00<00:00, 113.81it/s]\n"
          ]
        },
        {
          "output_type": "stream",
          "name": "stdout",
          "text": [
            "(Computer Solutions, 1012, John, Marketing Executive, 12/5/2008, KA/BA/345, 23.0, 2,400.00, 21,306.001)\n"
          ]
        },
        {
          "output_type": "stream",
          "name": "stderr",
          "text": [
            "100%|██████████| 1/1 [00:00<00:00, 131.76it/s]\n"
          ]
        },
        {
          "output_type": "stream",
          "name": "stdout",
          "text": [
            "(Alcon Laboratories, 40004264, RATHNAKAR V, ALWPV2882L, 01-Dec-2011, KNI/19618/919, EQUIPMENT MANAGER, 100309243262, 30, 01261050095226, 6,189.00, 77.400.00)\n"
          ]
        },
        {
          "output_type": "stream",
          "name": "stderr",
          "text": [
            "100%|██████████| 1/1 [00:00<00:00, 182.52it/s]\n"
          ]
        },
        {
          "output_type": "stream",
          "name": "stdout",
          "text": [
            "(Microsoft, Ravi Desai, 14253732424227, 142, MFHTY7835H, JUNIOR SOFTWARE ENGINEER, 438697735466, FTIMAS/31309/658465, 20/6/2014, 28, 1501, 16397)\n"
          ]
        },
        {
          "output_type": "stream",
          "name": "stderr",
          "text": [
            "100%|██████████| 1/1 [00:00<00:00, 140.90it/s]\n"
          ]
        },
        {
          "output_type": "stream",
          "name": "stdout",
          "text": [
            "(Accenture Services, Rohit Sharma, 01234456677, 15/01/13, Software Engineer, 1,196.00)\n"
          ]
        },
        {
          "output_type": "stream",
          "name": "stderr",
          "text": [
            "100%|██████████| 1/1 [00:00<00:00, 103.59it/s]\n"
          ]
        },
        {
          "output_type": "stream",
          "name": "stdout",
          "text": [
            "(ALIA PREMEDIA SERVICES, 755, AQLPG255OQ, RAMESH GAIKWAD, 22/04/2019, 50100285124227, SOFTWARE, 31.00, 1800, 49635.00)\n"
          ]
        },
        {
          "output_type": "stream",
          "name": "stderr",
          "text": [
            "100%|██████████| 1/1 [00:00<00:00, 114.83it/s]\n"
          ]
        },
        {
          "output_type": "stream",
          "name": "stdout",
          "text": [
            "(Lenvica Computer Solutions, Alex Jacob, Sr. Soflware Engineer, 22.0, 18005140026, 1,849.00)\n"
          ]
        },
        {
          "output_type": "stream",
          "name": "stderr",
          "text": [
            "100%|██████████| 1/1 [00:00<00:00, 191.16it/s]\n"
          ]
        },
        {
          "output_type": "stream",
          "name": "stdout",
          "text": [
            "(Cognizant Technology Solutions, Mr_ Abhishek Dubey, 580636, Sr. Associate Projects, AQxxxxxx4L, CXXXXXXXXKS/Z2, 07-Jul-2016, TNMAS/31309/376281, 100751077315, 4,284, 140,461)\n"
          ]
        },
        {
          "output_type": "stream",
          "name": "stderr",
          "text": [
            "100%|██████████| 1/1 [00:00<00:00, 59.48it/s]\n"
          ]
        },
        {
          "output_type": "stream",
          "name": "stdout",
          "text": [
            "(ABC Company, 0065)\n"
          ]
        },
        {
          "output_type": "stream",
          "name": "stderr",
          "text": [
            "\r  0%|          | 0/1 [00:00<?, ?it/s]"
          ]
        },
        {
          "output_type": "stream",
          "name": "stdout",
          "text": [
            "(1603.88,)"
          ]
        },
        {
          "output_type": "stream",
          "name": "stderr",
          "text": [
            "\r100%|██████████| 1/1 [00:00<00:00, 127.10it/s]\n"
          ]
        },
        {
          "output_type": "stream",
          "name": "stdout",
          "text": [
            "\n"
          ]
        },
        {
          "output_type": "stream",
          "name": "stderr",
          "text": [
            "100%|██████████| 1/1 [00:00<00:00, 142.24it/s]\n"
          ]
        },
        {
          "output_type": "stream",
          "name": "stdout",
          "text": [
            "(Sadhana Infotech, KN/45889/1016, Operator Depantment Manufacturing, JOPPL89895, 32,878.00)\n"
          ]
        },
        {
          "output_type": "stream",
          "name": "stderr",
          "text": [
            "\r  0%|          | 0/1 [00:00<?, ?it/s]"
          ]
        },
        {
          "output_type": "stream",
          "name": "stdout",
          "text": [
            "(GEINE TECHNOLOGIES, GEINE-0013, Satpal Yadav, Sr. System Engineer, 100341614828, GNGGN27809-0009, ADSPY161OP, 31, 1,800, 53,440)"
          ]
        },
        {
          "output_type": "stream",
          "name": "stderr",
          "text": [
            "\r100%|██████████| 1/1 [00:00<00:00, 61.24it/s]\n"
          ]
        },
        {
          "output_type": "stream",
          "name": "stdout",
          "text": [
            "\n"
          ]
        },
        {
          "output_type": "stream",
          "name": "stderr",
          "text": [
            "100%|██████████| 1/1 [00:00<00:00, 39.01it/s]"
          ]
        },
        {
          "output_type": "stream",
          "name": "stdout",
          "text": [
            "(CIPLA LIMITED, 107177, Sunil Rameshwar, 153201512196, Assistant Manager, AYHPB5362K, MH/1073/107177, DOJ:03 Nov 2014, Days:30.00, 100474150677, 1434.00, 45787.00)\n"
          ]
        },
        {
          "output_type": "stream",
          "name": "stderr",
          "text": [
            "\n",
            "100%|██████████| 1/1 [00:00<00:00, 267.22it/s]"
          ]
        },
        {
          "output_type": "stream",
          "name": "stdout",
          "text": [
            "(Apurva, 1004734419523, PALKL87778, 172340.00)\n"
          ]
        },
        {
          "output_type": "stream",
          "name": "stderr",
          "text": [
            "\n",
            "100%|██████████| 1/1 [00:00<00:00, 290.65it/s]\n"
          ]
        },
        {
          "output_type": "stream",
          "name": "stdout",
          "text": [
            "(MUTHOOT FINANCE LIMITED, MF36737, 20186984865, SALAHUDEEN, 3-Oct-2016, 100939687541, JR AUDIT EXECUTIVE (GOLD, 31.0, 1,800.00, 28,615.00)\n"
          ]
        },
        {
          "output_type": "stream",
          "name": "stderr",
          "text": [
            "100%|██████████| 1/1 [00:00<00:00, 86.64it/s]\n"
          ]
        },
        {
          "output_type": "stream",
          "name": "stdout",
          "text": [
            "(ANOOP KUMAR, C149494, SALES MANAGER, 16/05/2017, AYEPS6102K, KDMALO0446990000024304, 916010017839708, 30.00, 1800.00, 41340.00)\n"
          ]
        },
        {
          "output_type": "stream",
          "name": "stderr",
          "text": [
            "\r  0%|          | 0/1 [00:00<?, ?it/s]"
          ]
        },
        {
          "output_type": "stream",
          "name": "stdout",
          "text": [
            "(Vodafone India Services, 11234888, BTSPB4396Q, Apurw Bhaskar, 50100013833260, Assistant Manager, PUPUN03041980000007476, 25/08/2016, 31.00*, 100924999536, 63,095.00)"
          ]
        },
        {
          "output_type": "stream",
          "name": "stderr",
          "text": [
            "\r100%|██████████| 1/1 [00:00<00:00, 32.31it/s]\n"
          ]
        },
        {
          "output_type": "stream",
          "name": "stdout",
          "text": [
            "\n"
          ]
        },
        {
          "output_type": "stream",
          "name": "stderr",
          "text": [
            "\r  0%|          | 0/1 [00:00<?, ?it/s]"
          ]
        },
        {
          "output_type": "stream",
          "name": "stdout",
          "text": [
            "(MASO AUTOMOTIVES, SAVIO JOHN, MANAGER, MHIAB/24234/475, 101312862833, 01-06-2018, 26.0, 1200.00)"
          ]
        },
        {
          "output_type": "stream",
          "name": "stderr",
          "text": [
            "\r100%|██████████| 1/1 [00:00<00:00, 121.52it/s]\n"
          ]
        },
        {
          "output_type": "stream",
          "name": "stdout",
          "text": [
            "\n"
          ]
        },
        {
          "output_type": "stream",
          "name": "stderr",
          "text": [
            "100%|██████████| 1/1 [00:00<00:00, 49.94it/s]\n"
          ]
        },
        {
          "output_type": "stream",
          "name": "stdout",
          "text": [
            "(Cognizant Technology Solutions, Mr. Vaibhav Sawatkar, 560560, Sr. Analyst Biz Development, DWxxxxxx4N, 25-Apr-2016, TNMMAS/31309/360545, 100743724293, 31, 4,230, 78,795)\n"
          ]
        },
        {
          "output_type": "stream",
          "name": "stderr",
          "text": [
            "100%|██████████| 1/1 [00:00<00:00, 59.01it/s]"
          ]
        },
        {
          "output_type": "stream",
          "name": "stdout",
          "text": [
            "(SyndicateBank, 697161, HARSHITA ARGADE, 25-May-2015, ASST MANAGER, ASUPA2212Q, 78622020000011, 36803.92)\n"
          ]
        },
        {
          "output_type": "stream",
          "name": "stderr",
          "text": [
            "\n",
            "100%|██████████| 1/1 [00:00<00:00, 304.16it/s]\n"
          ]
        },
        {
          "output_type": "stream",
          "name": "stdout",
          "text": [
            "(Peter, 1234, Accountant, 11-07-2010, 45,580.001)\n"
          ]
        },
        {
          "output_type": "stream",
          "name": "stderr",
          "text": [
            "100%|██████████| 1/1 [00:00<00:00, 142.22it/s]"
          ]
        },
        {
          "output_type": "stream",
          "name": "stdout",
          "text": [
            "(AppleGrow Ltd, S53,701.27)\n"
          ]
        },
        {
          "output_type": "stream",
          "name": "stderr",
          "text": [
            "\n",
            "  0%|          | 0/1 [00:00<?, ?it/s]"
          ]
        },
        {
          "output_type": "stream",
          "name": "stdout",
          "text": [
            "(PAWAN KUMAR, No:61042831512, BHOPK44O1P, 34081.00)"
          ]
        },
        {
          "output_type": "stream",
          "name": "stderr",
          "text": [
            "\r100%|██████████| 1/1 [00:00<00:00, 72.32it/s]\n"
          ]
        },
        {
          "output_type": "stream",
          "name": "stdout",
          "text": [
            "\n"
          ]
        },
        {
          "output_type": "stream",
          "name": "stderr",
          "text": [
            "\r  0%|          | 0/1 [00:00<?, ?it/s]"
          ]
        },
        {
          "output_type": "stream",
          "name": "stdout",
          "text": [
            "(Shriram Life Insurance Company, CANESH KUMAR GUPTA, 51281582, SALES OFFICER, 401210678010, 01/11/2017, 24664.00)"
          ]
        },
        {
          "output_type": "stream",
          "name": "stderr",
          "text": [
            "\r100%|██████████| 1/1 [00:00<00:00, 60.09it/s]\n"
          ]
        },
        {
          "output_type": "stream",
          "name": "stdout",
          "text": [
            "\n"
          ]
        },
        {
          "output_type": "stream",
          "name": "stderr",
          "text": [
            "100%|██████████| 1/1 [00:00<00:00, 58.09it/s]\n"
          ]
        },
        {
          "output_type": "stream",
          "name": "stdout",
          "text": [
            "(Darpan Saxena, AZKPS4775R, 100129875244, DL/14510/9699, 5 , 528, 173,302)\n"
          ]
        },
        {
          "output_type": "stream",
          "name": "stderr",
          "text": [
            "\r  0%|          | 0/1 [00:00<?, ?it/s]"
          ]
        },
        {
          "output_type": "stream",
          "name": "stdout",
          "text": [
            "(GEMSCAP GLOBAL ANALYST, Asha Bhaurao, DGYPB6967C, 31, Equity Analyst, 101394451472, 720, 104,977)"
          ]
        },
        {
          "output_type": "stream",
          "name": "stderr",
          "text": [
            "\r100%|██████████| 1/1 [00:00<00:00, 53.49it/s]"
          ]
        },
        {
          "output_type": "stream",
          "name": "stdout",
          "text": [
            "\n"
          ]
        },
        {
          "output_type": "stream",
          "name": "stderr",
          "text": [
            "\n",
            "100%|██████████| 1/1 [00:00<00:00, 78.09it/s]\n"
          ]
        },
        {
          "output_type": "stream",
          "name": "stdout",
          "text": [
            "(DISTRICT EDUCATTONAL OFFICE, AMXEXXX6N, 2000, 61331)\n"
          ]
        },
        {
          "output_type": "stream",
          "name": "stderr",
          "text": [
            "100%|██████████| 1/1 [00:00<00:00, 56.76it/s]\n"
          ]
        },
        {
          "output_type": "stream",
          "name": "stdout",
          "text": [
            "(Bank of India, 209656, SIVAKUMAR, COMPUTER OFFICER, BBUPGS766M, 39712.30)\n"
          ]
        },
        {
          "output_type": "stream",
          "name": "stderr",
          "text": [
            "100%|██████████| 1/1 [00:00<00:00, 76.35it/s]\n"
          ]
        },
        {
          "output_type": "stream",
          "name": "stdout",
          "text": [
            "(Tata AIG General Insurance, ARUN KUMAR GHORPADE, 3957681, ALYPG8345F, :05/11/2018, 100090421014, 918010082299760, 31, Relationship Manager, 2475, 241277)\n"
          ]
        },
        {
          "output_type": "stream",
          "name": "stderr",
          "text": [
            "\r  0%|          | 0/1 [00:00<?, ?it/s]"
          ]
        },
        {
          "output_type": "stream",
          "name": "stdout",
          "text": [
            "(BASF, Ashneer Grover, 123, 791534253617194, 21 January 2009, 31, 684756283647, CMO, AREFST627J, GQ/VTR/10957/917465, 1000, 59500)"
          ]
        },
        {
          "output_type": "stream",
          "name": "stderr",
          "text": [
            "\r100%|██████████| 1/1 [00:00<00:00, 168.80it/s]\n"
          ]
        },
        {
          "output_type": "stream",
          "name": "stdout",
          "text": [
            "\n"
          ]
        },
        {
          "output_type": "stream",
          "name": "stderr",
          "text": [
            "\r  0%|          | 0/1 [00:00<?, ?it/s]"
          ]
        },
        {
          "output_type": "stream",
          "name": "stdout",
          "text": [
            "(EMC Software and Services, 40015794, Gnanamani Mohanraj, PY KRP / 45794/22195, BGYPM56747, 100558652662, 6,438, 95, 422.00)"
          ]
        },
        {
          "output_type": "stream",
          "name": "stderr",
          "text": [
            "\r100%|██████████| 1/1 [00:00<00:00, 66.75it/s]\n"
          ]
        },
        {
          "output_type": "stream",
          "name": "stdout",
          "text": [
            "\n"
          ]
        },
        {
          "output_type": "stream",
          "name": "stderr",
          "text": [
            "\r  0%|          | 0/1 [00:00<?, ?it/s]"
          ]
        },
        {
          "output_type": "stream",
          "name": "stdout",
          "text": [
            "(SALARIUM PAY, 12345678, 9,793.95, 9,793.95)"
          ]
        },
        {
          "output_type": "stream",
          "name": "stderr",
          "text": [
            "\r100%|██████████| 1/1 [00:00<00:00, 71.60it/s]\n"
          ]
        },
        {
          "output_type": "stream",
          "name": "stdout",
          "text": [
            "\n"
          ]
        },
        {
          "output_type": "stream",
          "name": "stderr",
          "text": [
            "100%|██████████| 1/1 [00:00<00:00, 129.65it/s]\n"
          ]
        },
        {
          "output_type": "stream",
          "name": "stdout",
          "text": [
            "(Optum Global Solutions, 001374874, VASU TAKASI, GNIGGN/028371/051117, 22, 101040797548, Sr Software Engineer, 50100070292501, 5455, 104191)\n"
          ]
        },
        {
          "output_type": "stream",
          "name": "stderr",
          "text": [
            "100%|██████████| 1/1 [00:00<00:00, 222.06it/s]\n"
          ]
        },
        {
          "output_type": "stream",
          "name": "stdout",
          "text": [
            "(1189, Anand Krishna, Engineer, 05801610000000, 16-01-2012, 2,928.00, 53,443.04)\n"
          ]
        },
        {
          "output_type": "stream",
          "name": "stderr",
          "text": [
            "100%|██████████| 1/1 [00:00<00:00, 184.42it/s]\n"
          ]
        },
        {
          "output_type": "stream",
          "name": "stdout",
          "text": [
            "(Cognizant Technology Solutions, Mr. Shivendu Shekhar, 660059, Team Leader, BNxxxxxx6F, Xx5316, 13-Oct-2017, TNMMAS/31309/1692635, 100564616304, 28, 2,826, 69,129)\n"
          ]
        },
        {
          "output_type": "stream",
          "name": "stderr",
          "text": [
            "\r  0%|          | 0/1 [00:00<?, ?it/s]"
          ]
        },
        {
          "output_type": "stream",
          "name": "stdout",
          "text": [
            "(State Bank of India, 00821532, Shri_ Vivek Kumar, CUSTOMER ASSISTANT, 16.01 2017, ATQPM3566M, 5, 346 . 00)\n"
          ]
        },
        {
          "output_type": "stream",
          "name": "stderr",
          "text": [
            "100%|██████████| 1/1 [00:00<00:00, 36.60it/s]\n",
            "100%|██████████| 1/1 [00:00<00:00, 178.06it/s]"
          ]
        },
        {
          "output_type": "stream",
          "name": "stdout",
          "text": [
            "(Mr. Robinson Crusoe, 1640.44)\n"
          ]
        },
        {
          "output_type": "stream",
          "name": "stderr",
          "text": [
            "\n"
          ]
        }
      ],
      "source": [
        "path='/content/annotations_train'\n",
        "nlp = spacy.blank(\"en\") # load a new spacy model\n",
        "db = DocBin()\n",
        "for i in os.listdir(path):\n",
        "    if i[-4:]=='json':\n",
        "        f = open(path+'/'+i)\n",
        "        TRAIN_DATA = json.load(f)\n",
        "        for text, annot in tqdm(TRAIN_DATA['annotations']): \n",
        "            doc = nlp.make_doc(text) \n",
        "            ents = []\n",
        "            for start, end, label in annot[\"entities\"]:\n",
        "                span = doc.char_span(start, end, label=label, alignment_mode=\"contract\")\n",
        "                if span is None:\n",
        "                    print(\"Skipping entity\")\n",
        "                else:\n",
        "                    ents.append(span)\n",
        "            doc.ents = ents \n",
        "            print(doc.ents)\n",
        "            db.add(doc)\n",
        "db.to_disk(\"train_small_data.spacy\")"
      ]
    },
    {
      "cell_type": "code",
      "execution_count": 8,
      "metadata": {
        "colab": {
          "base_uri": "https://localhost:8080/"
        },
        "outputId": "e071239f-8eff-4631-ca8a-c20a730b918c",
        "id": "fZELzRvI14NG"
      },
      "outputs": [
        {
          "output_type": "stream",
          "name": "stderr",
          "text": [
            "100%|██████████| 1/1 [00:00<00:00, 170.90it/s]\n"
          ]
        },
        {
          "output_type": "stream",
          "name": "stdout",
          "text": [
            "(Zoonodle Inc, 2018-06-23, Sally Harley, Marketing Executive, 26, 1200, 9500)\n"
          ]
        },
        {
          "output_type": "stream",
          "name": "stderr",
          "text": [
            "100%|██████████| 1/1 [00:00<00:00, 147.97it/s]\n"
          ]
        },
        {
          "output_type": "stream",
          "name": "stdout",
          "text": [
            "(29,985.03,)\n"
          ]
        },
        {
          "output_type": "stream",
          "name": "stderr",
          "text": [
            "100%|██████████| 1/1 [00:00<00:00, 479.24it/s]\n"
          ]
        },
        {
          "output_type": "stream",
          "name": "stdout",
          "text": [
            "(Amazon, 76858, Shivam rai, 49856732424227, XDGTY3223R, 438697735466, Product Engineer, 20/6/2014, 1000, 7000)\n"
          ]
        },
        {
          "output_type": "stream",
          "name": "stderr",
          "text": [
            "100%|██████████| 1/1 [00:00<00:00, 213.69it/s]\n"
          ]
        },
        {
          "output_type": "stream",
          "name": "stdout",
          "text": [
            "(Amazon india pvt, 69870, Smit Kapadia, SHIVRZ985R, 898305617834, Senior software engineer, 50100732424227, 20/6/2014, 1000, 8700)\n"
          ]
        },
        {
          "output_type": "stream",
          "name": "stderr",
          "text": [
            "100%|██████████| 1/1 [00:00<00:00, 363.43it/s]\n"
          ]
        },
        {
          "output_type": "stream",
          "name": "stdout",
          "text": [
            "(Flipcart pvt, 62330, Meet Sidhpuria, XDGTY3223R, 438697735466, Product Engineer, 49856732424227, 20/6/2014, 2000, 27100)\n"
          ]
        },
        {
          "output_type": "stream",
          "name": "stderr",
          "text": [
            "100%|██████████| 1/1 [00:00<00:00, 255.59it/s]\n"
          ]
        },
        {
          "output_type": "stream",
          "name": "stdout",
          "text": [
            "(Microsoft, Varun kulchandani, 76935732424227, 76858, Software Engineer, XDGTY3223R, TN/MAS/31309/376281, 438697735466, 31, 20/6/2014, 1000, 5997)\n"
          ]
        },
        {
          "output_type": "stream",
          "name": "stderr",
          "text": [
            "100%|██████████| 1/1 [00:00<00:00, 46.62it/s]\n"
          ]
        },
        {
          "output_type": "stream",
          "name": "stdout",
          "text": [
            "(Tata AIG General Insurance Company, ARUN KUMAR GHORPADE, 3957681, ALYPG8345F, :05/11/2018, 100090421014, 918010082299760, 31, Relationship Manager, 56356)\n"
          ]
        },
        {
          "output_type": "stream",
          "name": "stderr",
          "text": [
            "100%|██████████| 1/1 [00:00<00:00, 222.27it/s]\n"
          ]
        },
        {
          "output_type": "stream",
          "name": "stdout",
          "text": [
            "(Amazon, shiv raj, 201, machine learning engineer, 918010082299760, NSIGH1235M, 1,000.00, 18,600.00)\n"
          ]
        },
        {
          "output_type": "stream",
          "name": "stderr",
          "text": [
            "100%|██████████| 1/1 [00:00<00:00, 172.70it/s]\n"
          ]
        },
        {
          "output_type": "stream",
          "name": "stdout",
          "text": [
            "(0063, AAAPA4532A, Senior Executive, 100000043634, KAIFBD/OO12345/012/KA/BN/4, 235362724352, 1-Apr-2020, 9,360.00, 15,31,194.00)\n"
          ]
        },
        {
          "output_type": "stream",
          "name": "stderr",
          "text": [
            "100%|██████████| 1/1 [00:00<00:00, 218.81it/s]\n"
          ]
        },
        {
          "output_type": "stream",
          "name": "stdout",
          "text": [
            "(1,940.00,)\n"
          ]
        },
        {
          "output_type": "stream",
          "name": "stderr",
          "text": [
            "100%|██████████| 1/1 [00:00<00:00, 483.60it/s]\n"
          ]
        },
        {
          "output_type": "stream",
          "name": "stdout",
          "text": [
            "(Flipcart pvt, 62330, Meet Sidhpuria, XDGTY3223R, 438697735466, Product Engineer, 49856732424227, 20/6/2014, 2000, 27100)\n"
          ]
        },
        {
          "output_type": "stream",
          "name": "stderr",
          "text": [
            "100%|██████████| 1/1 [00:00<00:00, 402.99it/s]\n"
          ]
        },
        {
          "output_type": "stream",
          "name": "stdout",
          "text": [
            "(Flipcart pvt, 62330, Aditya Jani, FRTHY3223R, 675925466578, Data Analyst, 49856732424227, 20/6/2014, 2000, 27100)\n"
          ]
        },
        {
          "output_type": "stream",
          "name": "stderr",
          "text": [
            "100%|██████████| 1/1 [00:00<00:00, 469.53it/s]\n"
          ]
        },
        {
          "output_type": "stream",
          "name": "stdout",
          "text": [
            "(Flipcart pvt, 62330, Meet Sidhpuria, XDGTY3223R, 438697735466, Product Engineer, 49856732424227, 20/6/2014, 2000, 27100)\n"
          ]
        },
        {
          "output_type": "stream",
          "name": "stderr",
          "text": [
            "100%|██████████| 1/1 [00:00<00:00, 416.51it/s]\n"
          ]
        },
        {
          "output_type": "stream",
          "name": "stdout",
          "text": [
            "(Microsoft, 76935732424227, Varun kulchandani, 76858, Software Engineer, XDGTY3223R, TN/MAS/31309/376281, 438697735466, 31, 20/6/2014, 2000, 14897)\n"
          ]
        },
        {
          "output_type": "stream",
          "name": "stderr",
          "text": [
            "100%|██████████| 1/1 [00:00<00:00, 469.27it/s]\n"
          ]
        },
        {
          "output_type": "stream",
          "name": "stdout",
          "text": [
            "(Flipcart pvt, 62330, drumil patel, XDGTY3223R, 20/6/2014, Product Engineer, 49856732424227, 438697735466, 2000, 27100)\n"
          ]
        },
        {
          "output_type": "stream",
          "name": "stderr",
          "text": [
            "100%|██████████| 1/1 [00:00<00:00, 186.85it/s]"
          ]
        },
        {
          "output_type": "stream",
          "name": "stdout",
          "text": [
            "(PAYBOOKS DEMO COMPANY, Muniraj, KN/abcd/303, TDMO3, 985762564222, Sr. Member Technical Staff, 01/04/2011, 30.00, 1235468748941, 96436.00)\n"
          ]
        },
        {
          "output_type": "stream",
          "name": "stderr",
          "text": [
            "\n",
            "  0%|          | 0/1 [00:00<?, ?it/s]"
          ]
        },
        {
          "output_type": "stream",
          "name": "stdout",
          "text": [
            "(SVMHIGHER SECONDARY SCHQQL, 29159, Ms. Sandhya, 803210110003559, 100385397388, 06.07.2005, BDBPM5O2IC, 7306, 53577)\n"
          ]
        },
        {
          "output_type": "stream",
          "name": "stderr",
          "text": [
            "\r100%|██████████| 1/1 [00:00<00:00, 73.42it/s]\n"
          ]
        }
      ],
      "source": [
        "path='/content/annotations_valid'\n",
        "nlp = spacy.blank(\"en\") # load a new spacy model\n",
        "db = DocBin()\n",
        "for i in os.listdir(path):\n",
        "    if i[-4:]=='json':\n",
        "        f = open(path+'/'+i)\n",
        "        TRAIN_DATA = json.load(f)\n",
        "        for text, annot in tqdm(TRAIN_DATA['annotations']): \n",
        "            doc = nlp.make_doc(text) \n",
        "            ents = []\n",
        "            for start, end, label in annot[\"entities\"]:\n",
        "                span = doc.char_span(start, end, label=label, alignment_mode=\"contract\")\n",
        "                if span is None:\n",
        "                    print(\"Skipping entity\")\n",
        "                else:\n",
        "                    ents.append(span)\n",
        "            doc.ents = ents \n",
        "            print(doc.ents)\n",
        "            db.add(doc)\n",
        "db.to_disk(\"val_small_data.spacy\")"
      ]
    },
    {
      "cell_type": "markdown",
      "source": [
        "Intializing the configuration file to set the hyperparameters"
      ],
      "metadata": {
        "id": "kRqRYb-8jh2F"
      }
    },
    {
      "cell_type": "code",
      "execution_count": 5,
      "metadata": {
        "id": "6SFNaOW8P4UU",
        "colab": {
          "base_uri": "https://localhost:8080/"
        },
        "outputId": "3d42f52d-2fd7-417d-8c4c-cb2c90280ab4"
      },
      "outputs": [
        {
          "output_type": "stream",
          "name": "stdout",
          "text": [
            "\u001b[38;5;3m⚠ To generate a more effective transformer-based config (GPU-only),\n",
            "install the spacy-transformers package and re-run this command. The config\n",
            "generated now does not use transformers.\u001b[0m\n",
            "\u001b[38;5;4mℹ Generated config template specific for your use case\u001b[0m\n",
            "- Language: en\n",
            "- Pipeline: ner\n",
            "- Optimize for: efficiency\n",
            "- Hardware: CPU\n",
            "- Transformer: None\n",
            "\u001b[38;5;2m✔ Auto-filled config with all values\u001b[0m\n",
            "\u001b[38;5;2m✔ Saved config\u001b[0m\n",
            "config.cfg\n",
            "You can now add your data and train your pipeline:\n",
            "python -m spacy train config.cfg --paths.train ./train.spacy --paths.dev ./dev.spacy\n"
          ]
        }
      ],
      "source": [
        "!python -m spacy init config config.cfg --lang en --pipeline ner --optimize efficiency"
      ]
    },
    {
      "cell_type": "markdown",
      "source": [
        "Training model"
      ],
      "metadata": {
        "id": "Vy51Tgc2ju4M"
      }
    },
    {
      "cell_type": "code",
      "execution_count": 9,
      "metadata": {
        "colab": {
          "base_uri": "https://localhost:8080/"
        },
        "id": "OUO54nPgP-cf",
        "outputId": "710136bd-1a9e-496a-9c59-326a790caee2"
      },
      "outputs": [
        {
          "output_type": "stream",
          "name": "stdout",
          "text": [
            "\u001b[38;5;4mℹ Saving to output directory: .\u001b[0m\n",
            "\u001b[38;5;4mℹ Using CPU\u001b[0m\n",
            "\u001b[38;5;4mℹ To switch to GPU 0, use the option: --gpu-id 0\u001b[0m\n",
            "\u001b[1m\n",
            "=========================== Initializing pipeline ===========================\u001b[0m\n",
            "[2022-07-14 10:44:02,581] [INFO] Set up nlp object from config\n",
            "[2022-07-14 10:44:02,590] [INFO] Pipeline: ['tok2vec', 'ner']\n",
            "[2022-07-14 10:44:02,594] [INFO] Created vocabulary\n",
            "[2022-07-14 10:44:02,595] [INFO] Finished initializing nlp object\n",
            "[2022-07-14 10:44:03,271] [INFO] Initialized pipeline components: ['tok2vec', 'ner']\n",
            "\u001b[38;5;2m✔ Initialized pipeline\u001b[0m\n",
            "\u001b[1m\n",
            "============================= Training pipeline =============================\u001b[0m\n",
            "\u001b[38;5;4mℹ Pipeline: ['tok2vec', 'ner']\u001b[0m\n",
            "\u001b[38;5;4mℹ Initial learn rate: 0.001\u001b[0m\n",
            "E    #       LOSS TOK2VEC  LOSS NER  ENTS_F  ENTS_P  ENTS_R  SCORE \n",
            "---  ------  ------------  --------  ------  ------  ------  ------\n",
            "  0       0          0.00    199.62    0.00    0.00    0.00    0.00\n",
            "  5     200      18562.10   7543.33   28.21   38.82   22.15    0.28\n",
            " 10     400      13204.11   1517.81   62.50   74.77   53.69    0.62\n",
            " 15     600       4250.83    394.37   57.26   75.00   46.31    0.57\n",
            " 20     800       8277.94    229.17   62.84   73.21   55.03    0.63\n",
            " 25    1000         90.89     59.93   64.00   79.21   53.69    0.64\n",
            " 30    1200        104.50     52.41   64.59   76.85   55.70    0.65\n",
            " 36    1400        255.18     34.85   59.69   70.64   51.68    0.60\n",
            " 41    1600        286.47     49.41   66.92   77.19   59.06    0.67\n",
            " 47    1800        102.41     37.57   64.71   71.54   59.06    0.65\n",
            " 55    2000        630.22     48.68   67.18   77.88   59.06    0.67\n",
            " 63    2200        273.94     47.37   57.26   75.00   46.31    0.57\n",
            " 74    2400        210.78     32.63   62.35   78.57   51.68    0.62\n",
            " 87    2600        583.78     27.83   62.95   77.45   53.02    0.63\n",
            "103    2800        238.79     29.03   67.18   79.09   58.39    0.67\n",
            "124    3000        179.92     12.79   61.96   74.53   53.02    0.62\n",
            "146    3200        307.58     34.58   59.85   68.70   53.02    0.60\n",
            "168    3400         63.74     10.77   64.42   72.88   57.72    0.64\n",
            "191    3600       2370.92     74.25   58.78   63.08   55.03    0.59\n",
            "213    3800       2335.18     78.19   62.41   70.94   55.70    0.62\n",
            "236    4000       2151.25     48.50   60.00   79.12   48.32    0.60\n",
            "258    4200         55.31      6.59   61.48   73.15   53.02    0.61\n",
            "281    4400         69.46     11.32   64.15   73.28   57.05    0.64\n",
            "\u001b[38;5;2m✔ Saved pipeline to output directory\u001b[0m\n",
            "model-last\n"
          ]
        }
      ],
      "source": [
        "! python -m spacy train config.cfg --output ./ --paths.train /content/train_small_data.spacy --paths.dev /content/val_small_data.spacy"
      ]
    },
    {
      "cell_type": "markdown",
      "source": [
        "The trained model is saved as model best and model last, model best contains the model with highest accuracy"
      ],
      "metadata": {
        "id": "RwCSf6mwj8NB"
      }
    },
    {
      "cell_type": "code",
      "execution_count": 10,
      "metadata": {
        "id": "oANGlhtSQlfd"
      },
      "outputs": [],
      "source": [
        "nlp_ner = spacy.load(\"/content/model-last\")"
      ]
    },
    {
      "cell_type": "code",
      "execution_count": 11,
      "metadata": {
        "id": "QjIuqk_OQuzQ"
      },
      "outputs": [],
      "source": [
        "doc = nlp_ner('''PAYPAL Infinix Complex; Old padra, Ahmedabad PF number FTICBF/76849/658465 EMP ID 89 UAN 526354618235 EMP Name Mehta Agrima PAN BHFTK1967F Days worked 31 Bank Account 983546253645152 DOJ 30/1/2010 Number Designation CEO Earnings Amount Basic 128000 Medical Allowance 2000 Allowance 500 Special allowance 1000 Total Earnings 131500 Deductions Amount NPS 2000 PF 2500 Tax 2000 Total Deductions 6500 Take Home 125000 125000 One Lakh Twenty Five Thousand Pay Pay''')"
      ]
    },
    {
      "cell_type": "code",
      "execution_count": 12,
      "metadata": {
        "colab": {
          "base_uri": "https://localhost:8080/"
        },
        "id": "s29XAhyJVHvO",
        "outputId": "9e90b1f5-02f1-4ac7-de40-5b179f4e1827"
      },
      "outputs": [
        {
          "output_type": "stream",
          "name": "stdout",
          "text": [
            "FTICBF/76849/658465 PF_NUMBER\n",
            "526354618235 UAN_NUMBER\n",
            "Mehta Agrima EMPLOYEE_NAME\n",
            "BHFTK1967F PAN_NUMBER\n",
            "31 DAYS_WORKED\n",
            "983546253645152 BANK_ACCOUNT_NUMBER\n",
            "30/1/2010 DATE_OF_JOINING\n"
          ]
        }
      ],
      "source": [
        "for i in doc.ents:\n",
        "    print(i.text,i.label_)"
      ]
    },
    {
      "cell_type": "code",
      "source": [
        "!zip -r /content/model_last.zip /content/model-best"
      ],
      "metadata": {
        "colab": {
          "base_uri": "https://localhost:8080/"
        },
        "id": "eqdAUWkYqwhh",
        "outputId": "779c98dd-4060-499d-c524-08f7ef2020d3"
      },
      "execution_count": 13,
      "outputs": [
        {
          "output_type": "stream",
          "name": "stdout",
          "text": [
            "  adding: content/model-best/ (stored 0%)\n",
            "  adding: content/model-best/vocab/ (stored 0%)\n",
            "  adding: content/model-best/vocab/vectors (deflated 45%)\n",
            "  adding: content/model-best/vocab/vectors.cfg (stored 0%)\n",
            "  adding: content/model-best/vocab/lookups.bin (stored 0%)\n",
            "  adding: content/model-best/vocab/key2row (stored 0%)\n",
            "  adding: content/model-best/vocab/strings.json (deflated 70%)\n",
            "  adding: content/model-best/config.cfg (deflated 61%)\n",
            "  adding: content/model-best/meta.json (deflated 69%)\n",
            "  adding: content/model-best/tokenizer (deflated 81%)\n",
            "  adding: content/model-best/tok2vec/ (stored 0%)\n",
            "  adding: content/model-best/tok2vec/cfg (stored 0%)\n",
            "  adding: content/model-best/tok2vec/model (deflated 8%)\n",
            "  adding: content/model-best/ner/ (stored 0%)\n",
            "  adding: content/model-best/ner/moves (deflated 76%)\n",
            "  adding: content/model-best/ner/cfg (deflated 33%)\n",
            "  adding: content/model-best/ner/model (deflated 8%)\n"
          ]
        }
      ]
    }
  ],
  "metadata": {
    "accelerator": "GPU",
    "colab": {
      "collapsed_sections": [],
      "name": "task_payslip extraction.ipynb",
      "provenance": []
    },
    "kernelspec": {
      "display_name": "Python 3",
      "name": "python3"
    },
    "language_info": {
      "name": "python"
    }
  },
  "nbformat": 4,
  "nbformat_minor": 0
}